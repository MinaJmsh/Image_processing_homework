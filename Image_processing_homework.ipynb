{
  "nbformat": 4,
  "nbformat_minor": 0,
  "metadata": {
    "colab": {
      "provenance": [],
      "gpuType": "T4",
      "authorship_tag": "ABX9TyM17iqaEo0dAeJdsNp/0+gy",
      "include_colab_link": true
    },
    "kernelspec": {
      "name": "python3",
      "display_name": "Python 3"
    },
    "language_info": {
      "name": "python"
    },
    "accelerator": "GPU"
  },
  "cells": [
    {
      "cell_type": "markdown",
      "metadata": {
        "id": "view-in-github",
        "colab_type": "text"
      },
      "source": [
        "<a href=\"https://colab.research.google.com/github/StuckInAnEndlessFebruary/Image_processing_homework/blob/main/Image_processing_homework.ipynb\" target=\"_parent\"><img src=\"https://colab.research.google.com/assets/colab-badge.svg\" alt=\"Open In Colab\"/></a>"
      ]
    },
    {
      "cell_type": "markdown",
      "source": [
        "# سوال 1"
      ],
      "metadata": {
        "id": "t2wJvn0Unq4-"
      }
    },
    {
      "cell_type": "markdown",
      "source": [
        "## مرحله ۱: اتصال به Google Drive و آماده‌سازی مسیرها"
      ],
      "metadata": {
        "id": "_65rZ3mGo25e"
      }
    },
    {
      "cell_type": "code",
      "execution_count": null,
      "metadata": {
        "id": "1BYlv63xjqj8"
      },
      "outputs": [],
      "source": [
        "from google.colab import drive\n",
        "import os\n",
        "\n",
        "# اتصال به گوگل درایو\n",
        "drive.mount('/content/drive')\n",
        "\n",
        "# مسیر پوشه تصاویر\n",
        "image_dir = '/content/drive/MyDrive/cv/Q1/'\n",
        "\n",
        "# بررسی فایل‌ها\n",
        "os.listdir(image_dir)\n"
      ]
    },
    {
      "cell_type": "markdown",
      "source": [
        "## مرحله ۲: نمایش اولیه تصاویر برای تحلیل نوع آسیب"
      ],
      "metadata": {
        "id": "52kUZQZdpagH"
      }
    },
    {
      "cell_type": "code",
      "source": [
        "import cv2\n",
        "import matplotlib.pyplot as plt\n",
        "\n",
        "# لیست فایل‌ها\n",
        "image_files = [\n",
        "    'processed_img_part_1',\n",
        "    'processed_img_part_2',\n",
        "    'processed_img_part_3_Level_0',\n",
        "    'processed_img_part_3_Level_1',\n",
        "    'processed_img_part_3_Level_2',\n",
        "    'processed_img_part_3_Level_3',\n",
        "    'processed_img_part_3_Level_4',\n",
        "    'processed_img_part_4'\n",
        "]\n",
        "\n",
        "# تابع نمایش تصویر\n",
        "def show_image(img_path, title):\n",
        "    img = cv2.imread(img_path)\n",
        "    img = cv2.cvtColor(img, cv2.COLOR_BGR2RGB)  # از BGR به RGB\n",
        "    plt.figure(figsize=(4, 4))\n",
        "    plt.imshow(img)\n",
        "    plt.title(title)\n",
        "    plt.axis('off')\n",
        "    plt.show()\n",
        "\n",
        "# نمایش همه تصاویر\n",
        "for file in image_files:\n",
        "    show_image(os.path.join(image_dir, file), file)\n"
      ],
      "metadata": {
        "id": "Zq-WJ-6HpYEr"
      },
      "execution_count": null,
      "outputs": []
    }
  ]
}